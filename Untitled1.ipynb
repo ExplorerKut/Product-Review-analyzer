{
 "cells": [
  {
   "cell_type": "code",
   "execution_count": 5,
   "id": "3b6cd11e",
   "metadata": {},
   "outputs": [
    {
     "ename": "AttributeError",
     "evalue": "'list' object has no attribute 'decode'",
     "output_type": "error",
     "traceback": [
      "\u001b[1;31m---------------------------------------------------------------------------\u001b[0m",
      "\u001b[1;31mAttributeError\u001b[0m                            Traceback (most recent call last)",
      "\u001b[1;32m<ipython-input-5-f7ad2a6e2ba6>\u001b[0m in \u001b[0;36m<module>\u001b[1;34m\u001b[0m\n\u001b[0;32m     14\u001b[0m \u001b[0mcurrent_file\u001b[0m\u001b[1;33m.\u001b[0m\u001b[0mclose\u001b[0m\u001b[1;33m(\u001b[0m\u001b[1;33m)\u001b[0m\u001b[1;33m\u001b[0m\u001b[1;33m\u001b[0m\u001b[0m\n\u001b[0;32m     15\u001b[0m \u001b[1;33m\u001b[0m\u001b[0m\n\u001b[1;32m---> 16\u001b[1;33m \u001b[0mx\u001b[0m \u001b[1;33m=\u001b[0m \u001b[0mx\u001b[0m\u001b[1;33m.\u001b[0m\u001b[0mdecode\u001b[0m\u001b[1;33m(\u001b[0m\u001b[1;34m\"utf-8\"\u001b[0m\u001b[1;33m)\u001b[0m\u001b[1;33m\u001b[0m\u001b[1;33m\u001b[0m\u001b[0m\n\u001b[0m\u001b[0;32m     17\u001b[0m \u001b[0mx\u001b[0m \u001b[1;33m=\u001b[0m \u001b[0mx\u001b[0m\u001b[1;33m.\u001b[0m\u001b[0msplitlines\u001b[0m\u001b[1;33m(\u001b[0m\u001b[1;33m)\u001b[0m\u001b[1;33m\u001b[0m\u001b[1;33m\u001b[0m\u001b[0m\n\u001b[0;32m     18\u001b[0m \u001b[0mx\u001b[0m \u001b[1;33m=\u001b[0m \u001b[0mx\u001b[0m\u001b[1;33m[\u001b[0m\u001b[1;33m:\u001b[0m\u001b[1;36m10000\u001b[0m\u001b[1;33m]\u001b[0m     \u001b[1;31m### For quick iteration.  Recall this dataset has 400,000 examples.\u001b[0m\u001b[1;33m\u001b[0m\u001b[1;33m\u001b[0m\u001b[0m\n",
      "\u001b[1;31mAttributeError\u001b[0m: 'list' object has no attribute 'decode'"
     ]
    }
   ],
   "source": [
    "from keras.layers import Embedding, Dense, LSTM  # CuDNNLSTM instead of LSTM if you've got tensorflow-gpu\n",
    "from keras.models import Sequential\n",
    "from keras.preprocessing import sequence\n",
    "import numpy as np\n",
    "from nltk.tokenize import RegexpTokenizer\n",
    "from nltk.stem import WordNetLemmatizer\n",
    "from nltk import FreqDist\n",
    "import bz2\n",
    "vocab_size = 3000\n",
    "max_length = 500\n",
    "\n",
    "current_file = bz2.BZ2File(\"../../Projects/Jupyter notebook/test.ft.txt.bz2\", \"rb\")\n",
    "x = current_file.readlines()\n",
    "current_file.close()\n",
    "\n",
    "x = x.decode(\"utf-8\")\n",
    "x = x.splitlines()\n",
    "x = x[:10000]     ### For quick iteration.  Recall this dataset has 400,000 examples.\n",
    "\n",
    "labels = []\n",
    "reviews = []\n",
    "\n",
    "for i in x:\n",
    "    separated = i.split(\" \",1)\n",
    "    labels.append(separated[0])\n",
    "    reviews.append(separated[1])\n",
    "\n",
    "for i in range(len(labels)):\n",
    "    labels[i] = int(labels[i] == '__label__2')\n",
    "\n",
    "reTokenizer = RegexpTokenizer(r'\\w+')\n",
    "all_words = []\n",
    "\n",
    "for i in range(len(reviews)):\n",
    "    tokens = reTokenizer.tokenize(reviews[i])\n",
    "    reviews[i] = []\n",
    "    for word in tokens:\n",
    "        word = word.lower()\n",
    "        all_words.append(word)\n",
    "        reviews[i].append(word)\n",
    "    \n",
    "all_words = FreqDist(all_words)\n",
    "all_words = all_words.most_common(vocab_size)\n",
    "for i in range(len(all_words)):\n",
    "    all_words[i] = all_words[i][0]"
   ]
  },
  {
   "cell_type": "code",
   "execution_count": 7,
   "id": "9e5c4385",
   "metadata": {},
   "outputs": [
    {
     "name": "stdout",
     "output_type": "stream",
     "text": [
      "Num GPUs Available:  0\n"
     ]
    }
   ],
   "source": [
    "\n",
    "import tensorflow as tf\n",
    "print(\"Num GPUs Available: \", len(tf.config.experimental.list_physical_devices('GPU')))\n"
   ]
  },
  {
   "cell_type": "code",
   "execution_count": null,
   "id": "714b7962",
   "metadata": {},
   "outputs": [],
   "source": []
  },
  {
   "cell_type": "code",
   "execution_count": null,
   "id": "f2e90301",
   "metadata": {},
   "outputs": [],
   "source": []
  }
 ],
 "metadata": {
  "kernelspec": {
   "display_name": "Python 3",
   "language": "python",
   "name": "python3"
  },
  "language_info": {
   "codemirror_mode": {
    "name": "ipython",
    "version": 3
   },
   "file_extension": ".py",
   "mimetype": "text/x-python",
   "name": "python",
   "nbconvert_exporter": "python",
   "pygments_lexer": "ipython3",
   "version": "3.8.5"
  }
 },
 "nbformat": 4,
 "nbformat_minor": 5
}

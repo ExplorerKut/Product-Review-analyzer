{
 "cells": [
  {
   "cell_type": "code",
   "execution_count": 3,
   "id": "91654cf3",
   "metadata": {},
   "outputs": [],
   "source": [
    "import nltk\n",
    "import random\n",
    "from nltk.classify.scikitlearn import SklearnClassifier\n",
    "import pickle\n",
    "from sklearn.naive_bayes import MultinomialNB, BernoulliNB\n",
    "from sklearn.linear_model import LogisticRegression, SGDClassifier\n",
    "from sklearn.svm import SVC\n",
    "from nltk.classify import ClassifierI\n",
    "from statistics import mode\n",
    "from nltk.tokenize import word_tokenize\n",
    "\n",
    "\n",
    "\n",
    "class EnsembleClassifier(ClassifierI):\n",
    "    def __init__(self, *classifiers):\n",
    "        self._classifiers = classifiers\n",
    "\n",
    "    def classify(self, features):\n",
    "        votes = []\n",
    "        for c in self._classifiers:\n",
    "            v = c.classify(features)\n",
    "            votes.append(v)\n",
    "        return mode(votes)\n",
    "\n",
    "    def confidence(self, features):\n",
    "        votes = []\n",
    "        for c in self._classifiers:\n",
    "            v = c.classify(features)\n",
    "            votes.append(v)\n",
    "\n",
    "        choice_votes = votes.count(mode(votes))\n",
    "        conf = choice_votes / len(votes)\n",
    "        return conf\n",
    "'''\n",
    "\n",
    "documents_f = open(\"pickled_algos/documents.sav\", \"rb\")\n",
    "documents = pickle.load(documents_f)\n",
    "documents_f.close()\n",
    "\n",
    "\n",
    "'''\n",
    "\n",
    "\n",
    "word_features5k_f = open(\"pickled_algos/word_features5k.sav\", \"rb\")\n",
    "word_features = pickle.load(word_features5k_f)\n",
    "word_features5k_f.close()\n",
    "\n",
    "\n",
    "def parse_text(document):\n",
    "    words = word_tokenize(document)\n",
    "    features = {}\n",
    "    for w in word_features:\n",
    "        features[w] = (w in words)\n",
    "\n",
    "    return features\n",
    "\n",
    "\n",
    "# Load all classifiers from the pickled files\n",
    "\n",
    "# function to load models given filepath\n",
    "def load_model(file_path):\n",
    "    classifier_f = open(file_path, \"rb\")\n",
    "    classifier = pickle.load(classifier_f)\n",
    "    classifier_f.close()\n",
    "    return classifier\n",
    "\n",
    "\n"
   ]
  },
  {
   "cell_type": "code",
   "execution_count": 4,
   "id": "b1d32243",
   "metadata": {},
   "outputs": [
    {
     "data": {
      "text/plain": [
       "(0, 1.0)"
      ]
     },
     "execution_count": 4,
     "metadata": {},
     "output_type": "execute_result"
    }
   ],
   "source": [
    "def sentiment(text):\n",
    "    word_features5k_f = open(\"pickled_algos/word_features5k.sav\", \"rb\")\n",
    "    word_features = pickle.load(word_features5k_f)\n",
    "    word_features5k_f.close()\n",
    "        # Original Naive Bayes Classifier\n",
    "    ONB_Clf = load_model('pickled_algos/ONB_clf.sav')\n",
    "\n",
    "    # Multinomial Naive Bayes Classifier\n",
    "    MNB_Clf = load_model('pickled_algos/MNB_clf.sav')\n",
    "\n",
    "\n",
    "    # Bernoulli  Naive Bayes Classifier\n",
    "    BNB_Clf = load_model('pickled_algos/BNB_clf.sav')\n",
    "\n",
    "    # Logistic Regression Classifier\n",
    "    LogReg_Clf = load_model('pickled_algos/LogReg_clf.sav')\n",
    "\n",
    "    # Stochastic Gradient Descent Classifier\n",
    "    SGD_Clf = load_model('pickled_algos/SGD_clf.sav')\n",
    "\n",
    "\n",
    "\n",
    "    ensemble_clf = EnsembleClassifier(ONB_Clf, MNB_Clf, BNB_Clf, LogReg_Clf, SGD_Clf)\n",
    "    feats = parse_text(text)\n",
    "    return ensemble_clf.classify(feats),ensemble_clf.confidence(feats)\n",
    "\n",
    "\n",
    "sentiment(\"I don't know what were the company thinking the product is not working properly and it is of no use, waste of money\")"
   ]
  },
  {
   "cell_type": "code",
   "execution_count": null,
   "id": "cacca749",
   "metadata": {},
   "outputs": [],
   "source": []
  },
  {
   "cell_type": "code",
   "execution_count": 37,
   "id": "4f7cbd4b",
   "metadata": {},
   "outputs": [],
   "source": []
  },
  {
   "cell_type": "code",
   "execution_count": null,
   "id": "840a2ce5",
   "metadata": {},
   "outputs": [],
   "source": []
  },
  {
   "cell_type": "code",
   "execution_count": 39,
   "id": "353c9a54",
   "metadata": {},
   "outputs": [],
   "source": []
  },
  {
   "cell_type": "code",
   "execution_count": null,
   "id": "d2618b4a",
   "metadata": {},
   "outputs": [],
   "source": []
  }
 ],
 "metadata": {
  "kernelspec": {
   "display_name": "Python 3",
   "language": "python",
   "name": "python3"
  },
  "language_info": {
   "codemirror_mode": {
    "name": "ipython",
    "version": 3
   },
   "file_extension": ".py",
   "mimetype": "text/x-python",
   "name": "python",
   "nbconvert_exporter": "python",
   "pygments_lexer": "ipython3",
   "version": "3.8.5"
  }
 },
 "nbformat": 4,
 "nbformat_minor": 5
}
